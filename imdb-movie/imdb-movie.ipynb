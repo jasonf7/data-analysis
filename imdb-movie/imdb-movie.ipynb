{
 "cells": [
  {
   "cell_type": "code",
   "execution_count": 1,
   "metadata": {
    "collapsed": true
   },
   "outputs": [],
   "source": [
    "import numpy as np\n",
    "import pandas as pd\n",
    "import matplotlib.pyplot as plt\n",
    "%matplotlib inline  "
   ]
  },
  {
   "cell_type": "code",
   "execution_count": 2,
   "metadata": {},
   "outputs": [
    {
     "data": {
      "text/html": [
       "<div>\n",
       "<style>\n",
       "    .dataframe thead tr:only-child th {\n",
       "        text-align: right;\n",
       "    }\n",
       "\n",
       "    .dataframe thead th {\n",
       "        text-align: left;\n",
       "    }\n",
       "\n",
       "    .dataframe tbody tr th {\n",
       "        vertical-align: top;\n",
       "    }\n",
       "</style>\n",
       "<table border=\"1\" class=\"dataframe\">\n",
       "  <thead>\n",
       "    <tr style=\"text-align: right;\">\n",
       "      <th></th>\n",
       "      <th>color</th>\n",
       "      <th>director_name</th>\n",
       "      <th>num_critic_for_reviews</th>\n",
       "      <th>duration</th>\n",
       "      <th>director_facebook_likes</th>\n",
       "      <th>actor_3_facebook_likes</th>\n",
       "      <th>actor_2_name</th>\n",
       "      <th>actor_1_facebook_likes</th>\n",
       "      <th>gross</th>\n",
       "      <th>genres</th>\n",
       "      <th>...</th>\n",
       "      <th>num_user_for_reviews</th>\n",
       "      <th>language</th>\n",
       "      <th>country</th>\n",
       "      <th>content_rating</th>\n",
       "      <th>budget</th>\n",
       "      <th>title_year</th>\n",
       "      <th>actor_2_facebook_likes</th>\n",
       "      <th>imdb_score</th>\n",
       "      <th>aspect_ratio</th>\n",
       "      <th>movie_facebook_likes</th>\n",
       "    </tr>\n",
       "  </thead>\n",
       "  <tbody>\n",
       "    <tr>\n",
       "      <th>0</th>\n",
       "      <td>Color</td>\n",
       "      <td>James Cameron</td>\n",
       "      <td>723.0</td>\n",
       "      <td>178.0</td>\n",
       "      <td>0.0</td>\n",
       "      <td>855.0</td>\n",
       "      <td>Joel David Moore</td>\n",
       "      <td>1000.0</td>\n",
       "      <td>760505847.0</td>\n",
       "      <td>Action|Adventure|Fantasy|Sci-Fi</td>\n",
       "      <td>...</td>\n",
       "      <td>3054.0</td>\n",
       "      <td>English</td>\n",
       "      <td>USA</td>\n",
       "      <td>PG-13</td>\n",
       "      <td>237000000.0</td>\n",
       "      <td>2009.0</td>\n",
       "      <td>936.0</td>\n",
       "      <td>7.9</td>\n",
       "      <td>1.78</td>\n",
       "      <td>33000</td>\n",
       "    </tr>\n",
       "  </tbody>\n",
       "</table>\n",
       "<p>1 rows × 28 columns</p>\n",
       "</div>"
      ],
      "text/plain": [
       "   color  director_name  num_critic_for_reviews  duration  \\\n",
       "0  Color  James Cameron                   723.0     178.0   \n",
       "\n",
       "   director_facebook_likes  actor_3_facebook_likes      actor_2_name  \\\n",
       "0                      0.0                   855.0  Joel David Moore   \n",
       "\n",
       "   actor_1_facebook_likes        gross                           genres  \\\n",
       "0                  1000.0  760505847.0  Action|Adventure|Fantasy|Sci-Fi   \n",
       "\n",
       "          ...          num_user_for_reviews language  country  content_rating  \\\n",
       "0         ...                        3054.0  English      USA           PG-13   \n",
       "\n",
       "        budget  title_year actor_2_facebook_likes imdb_score  aspect_ratio  \\\n",
       "0  237000000.0      2009.0                  936.0        7.9          1.78   \n",
       "\n",
       "  movie_facebook_likes  \n",
       "0                33000  \n",
       "\n",
       "[1 rows x 28 columns]"
      ]
     },
     "execution_count": 2,
     "metadata": {},
     "output_type": "execute_result"
    }
   ],
   "source": [
    "# Load and inspect data\n",
    "df = pd.read_csv('movie_metadata.csv')\n",
    "df.head(1)"
   ]
  },
  {
   "cell_type": "code",
   "execution_count": 3,
   "metadata": {
    "scrolled": true
   },
   "outputs": [
    {
     "data": {
      "text/html": [
       "<div>\n",
       "<style>\n",
       "    .dataframe thead tr:only-child th {\n",
       "        text-align: right;\n",
       "    }\n",
       "\n",
       "    .dataframe thead th {\n",
       "        text-align: left;\n",
       "    }\n",
       "\n",
       "    .dataframe tbody tr th {\n",
       "        vertical-align: top;\n",
       "    }\n",
       "</style>\n",
       "<table border=\"1\" class=\"dataframe\">\n",
       "  <thead>\n",
       "    <tr style=\"text-align: right;\">\n",
       "      <th></th>\n",
       "      <th>director_name</th>\n",
       "      <th>num_critic_for_reviews</th>\n",
       "      <th>duration</th>\n",
       "      <th>director_facebook_likes</th>\n",
       "      <th>actor_3_facebook_likes</th>\n",
       "      <th>actor_2_name</th>\n",
       "      <th>actor_1_facebook_likes</th>\n",
       "      <th>gross</th>\n",
       "      <th>genres</th>\n",
       "      <th>actor_1_name</th>\n",
       "      <th>...</th>\n",
       "      <th>num_voted_users</th>\n",
       "      <th>cast_total_facebook_likes</th>\n",
       "      <th>actor_3_name</th>\n",
       "      <th>num_user_for_reviews</th>\n",
       "      <th>content_rating</th>\n",
       "      <th>budget</th>\n",
       "      <th>title_year</th>\n",
       "      <th>actor_2_facebook_likes</th>\n",
       "      <th>imdb_score</th>\n",
       "      <th>movie_facebook_likes</th>\n",
       "    </tr>\n",
       "  </thead>\n",
       "  <tbody>\n",
       "    <tr>\n",
       "      <th>0</th>\n",
       "      <td>James Cameron</td>\n",
       "      <td>723.0</td>\n",
       "      <td>178.0</td>\n",
       "      <td>0.0</td>\n",
       "      <td>855.0</td>\n",
       "      <td>Joel David Moore</td>\n",
       "      <td>1000.0</td>\n",
       "      <td>760505847.0</td>\n",
       "      <td>Action|Adventure|Fantasy|Sci-Fi</td>\n",
       "      <td>CCH Pounder</td>\n",
       "      <td>...</td>\n",
       "      <td>886204</td>\n",
       "      <td>4834</td>\n",
       "      <td>Wes Studi</td>\n",
       "      <td>3054.0</td>\n",
       "      <td>PG-13</td>\n",
       "      <td>237000000.0</td>\n",
       "      <td>2009.0</td>\n",
       "      <td>936.0</td>\n",
       "      <td>7.9</td>\n",
       "      <td>33000</td>\n",
       "    </tr>\n",
       "  </tbody>\n",
       "</table>\n",
       "<p>1 rows × 21 columns</p>\n",
       "</div>"
      ],
      "text/plain": [
       "   director_name  num_critic_for_reviews  duration  director_facebook_likes  \\\n",
       "0  James Cameron                   723.0     178.0                      0.0   \n",
       "\n",
       "   actor_3_facebook_likes      actor_2_name  actor_1_facebook_likes  \\\n",
       "0                   855.0  Joel David Moore                  1000.0   \n",
       "\n",
       "         gross                           genres actor_1_name  \\\n",
       "0  760505847.0  Action|Adventure|Fantasy|Sci-Fi  CCH Pounder   \n",
       "\n",
       "           ...          num_voted_users  cast_total_facebook_likes  \\\n",
       "0          ...                   886204                       4834   \n",
       "\n",
       "   actor_3_name num_user_for_reviews  content_rating       budget  title_year  \\\n",
       "0     Wes Studi               3054.0           PG-13  237000000.0      2009.0   \n",
       "\n",
       "   actor_2_facebook_likes  imdb_score  movie_facebook_likes  \n",
       "0                   936.0         7.9                 33000  \n",
       "\n",
       "[1 rows x 21 columns]"
      ]
     },
     "execution_count": 3,
     "metadata": {},
     "output_type": "execute_result"
    }
   ],
   "source": [
    "# Drop negligible columns\n",
    "df.drop('color', axis=1, inplace=True)\n",
    "df.drop('facenumber_in_poster', axis=1, inplace=True)\n",
    "df.drop('plot_keywords', axis=1, inplace=True)\n",
    "df.drop('movie_imdb_link', axis=1, inplace=True)\n",
    "df.drop('language', axis=1, inplace=True)\n",
    "df.drop('country', axis=1, inplace=True)\n",
    "df.drop('aspect_ratio', axis=1, inplace=True)\n",
    "df.head(1)"
   ]
  },
  {
   "cell_type": "code",
   "execution_count": 4,
   "metadata": {},
   "outputs": [
    {
     "data": {
      "text/plain": [
       "<matplotlib.lines.Line2D at 0x10afcc320>"
      ]
     },
     "execution_count": 4,
     "metadata": {},
     "output_type": "execute_result"
    },
    {
     "data": {
      "text/plain": [
       "<matplotlib.figure.Figure at 0x10ae75c88>"
      ]
     },
     "metadata": {},
     "output_type": "display_data"
    },
    {
     "data": {
      "image/png": "[encoded data removed]",
      "text/plain": [
       "<matplotlib.figure.Figure at 0x10aabf048>"
      ]
     },
     "metadata": {},
     "output_type": "display_data"
    },
    {
     "data": {
      "image/png": "[encoded data removed]",
      "text/plain": [
       "<matplotlib.figure.Figure at 0x10aabf160>"
      ]
     },
     "metadata": {},
     "output_type": "display_data"
    }
   ],
   "source": [
    "# Experiment 1: Take a look at \"best\" directors\n",
    "df_director = df.loc[:, ['director_name', 'imdb_score']] \\\n",
    "    .groupby('director_name') \\\n",
    "    .agg(['mean', 'std', 'count'])\n",
    "df_director.columns = df_director.columns.to_series().apply(lambda x: '_'.join(x))\n",
    "df_director = df_director.query('imdb_score_count > 1')\n",
    "plt.figure()\n",
    "df_director.hist(column='imdb_score_count')\n",
    "plt.axvline(df_director['imdb_score_count'].mean(), color='r', linestyle='dashed', linewidth=2)\n",
    "df_director.hist(column='imdb_score_mean')\n",
    "plt.axvline(df_director['imdb_score_mean'].mean(), color='r', linestyle='dashed', linewidth=2)"
   ]
  },
  {
   "cell_type": "code",
   "execution_count": 5,
   "metadata": {},
   "outputs": [
    {
     "data": {
      "text/html": [
       "<div>\n",
       "<style>\n",
       "    .dataframe thead tr:only-child th {\n",
       "        text-align: right;\n",
       "    }\n",
       "\n",
       "    .dataframe thead th {\n",
       "        text-align: left;\n",
       "    }\n",
       "\n",
       "    .dataframe tbody tr th {\n",
       "        vertical-align: top;\n",
       "    }\n",
       "</style>\n",
       "<table border=\"1\" class=\"dataframe\">\n",
       "  <thead>\n",
       "    <tr style=\"text-align: right;\">\n",
       "      <th></th>\n",
       "      <th>imdb_score_mean</th>\n",
       "      <th>imdb_score_std</th>\n",
       "      <th>imdb_score_count</th>\n",
       "      <th>quality_score</th>\n",
       "    </tr>\n",
       "    <tr>\n",
       "      <th>director_name</th>\n",
       "      <th></th>\n",
       "      <th></th>\n",
       "      <th></th>\n",
       "      <th></th>\n",
       "    </tr>\n",
       "  </thead>\n",
       "  <tbody>\n",
       "    <tr>\n",
       "      <th>Woody Allen</th>\n",
       "      <td>7.009091</td>\n",
       "      <td>0.529068</td>\n",
       "      <td>22</td>\n",
       "      <td>72.617646</td>\n",
       "    </tr>\n",
       "    <tr>\n",
       "      <th>Martin Scorsese</th>\n",
       "      <td>7.660000</td>\n",
       "      <td>0.602975</td>\n",
       "      <td>20</td>\n",
       "      <td>60.824218</td>\n",
       "    </tr>\n",
       "    <tr>\n",
       "      <th>Steven Spielberg</th>\n",
       "      <td>7.480769</td>\n",
       "      <td>0.742977</td>\n",
       "      <td>26</td>\n",
       "      <td>49.990900</td>\n",
       "    </tr>\n",
       "    <tr>\n",
       "      <th>Clint Eastwood</th>\n",
       "      <td>7.225000</td>\n",
       "      <td>0.701033</td>\n",
       "      <td>20</td>\n",
       "      <td>43.200721</td>\n",
       "    </tr>\n",
       "    <tr>\n",
       "      <th>Michael Bay</th>\n",
       "      <td>6.638462</td>\n",
       "      <td>0.520478</td>\n",
       "      <td>13</td>\n",
       "      <td>41.382741</td>\n",
       "    </tr>\n",
       "    <tr>\n",
       "      <th>Brett Ratner</th>\n",
       "      <td>6.410000</td>\n",
       "      <td>0.398469</td>\n",
       "      <td>10</td>\n",
       "      <td>38.558118</td>\n",
       "    </tr>\n",
       "    <tr>\n",
       "      <th>Quentin Tarantino</th>\n",
       "      <td>8.200000</td>\n",
       "      <td>0.424264</td>\n",
       "      <td>8</td>\n",
       "      <td>37.768277</td>\n",
       "    </tr>\n",
       "    <tr>\n",
       "      <th>Phillip Noyce</th>\n",
       "      <td>6.766667</td>\n",
       "      <td>0.390512</td>\n",
       "      <td>9</td>\n",
       "      <td>37.117790</td>\n",
       "    </tr>\n",
       "    <tr>\n",
       "      <th>Richard Donner</th>\n",
       "      <td>6.825000</td>\n",
       "      <td>0.556164</td>\n",
       "      <td>12</td>\n",
       "      <td>36.350184</td>\n",
       "    </tr>\n",
       "    <tr>\n",
       "      <th>Wes Anderson</th>\n",
       "      <td>7.628571</td>\n",
       "      <td>0.335233</td>\n",
       "      <td>7</td>\n",
       "      <td>35.498575</td>\n",
       "    </tr>\n",
       "  </tbody>\n",
       "</table>\n",
       "</div>"
      ],
      "text/plain": [
       "                   imdb_score_mean  imdb_score_std  imdb_score_count  \\\n",
       "director_name                                                          \n",
       "Woody Allen               7.009091        0.529068                22   \n",
       "Martin Scorsese           7.660000        0.602975                20   \n",
       "Steven Spielberg          7.480769        0.742977                26   \n",
       "Clint Eastwood            7.225000        0.701033                20   \n",
       "Michael Bay               6.638462        0.520478                13   \n",
       "Brett Ratner              6.410000        0.398469                10   \n",
       "Quentin Tarantino         8.200000        0.424264                 8   \n",
       "Phillip Noyce             6.766667        0.390512                 9   \n",
       "Richard Donner            6.825000        0.556164                12   \n",
       "Wes Anderson              7.628571        0.335233                 7   \n",
       "\n",
       "                   quality_score  \n",
       "director_name                     \n",
       "Woody Allen            72.617646  \n",
       "Martin Scorsese        60.824218  \n",
       "Steven Spielberg       49.990900  \n",
       "Clint Eastwood         43.200721  \n",
       "Michael Bay            41.382741  \n",
       "Brett Ratner           38.558118  \n",
       "Quentin Tarantino      37.768277  \n",
       "Phillip Noyce          37.117790  \n",
       "Richard Donner         36.350184  \n",
       "Wes Anderson           35.498575  "
      ]
     },
     "execution_count": 5,
     "metadata": {},
     "output_type": "execute_result"
    }
   ],
   "source": [
    "df_director['quality_score'] = df_director['imdb_score_mean'] * (1 - df_director['imdb_score_std']) * df_director['imdb_score_count']\n",
    "df_director.sort_values('quality_score', ascending=False).head(10)"
   ]
  },
  {
   "cell_type": "code",
   "execution_count": null,
   "metadata": {
    "collapsed": true
   },
   "outputs": [],
   "source": []
  },
  {
   "cell_type": "code",
   "execution_count": null,
   "metadata": {
    "collapsed": true
   },
   "outputs": [],
   "source": []
  }
 ],
 "metadata": {
  "kernelspec": {
   "display_name": "Python 3",
   "language": "python",
   "name": "python3"
  },
  "language_info": {
   "codemirror_mode": {
    "name": "ipython",
    "version": 3
   },
   "file_extension": ".py",
   "mimetype": "text/x-python",
   "name": "python",
   "nbconvert_exporter": "python",
   "pygments_lexer": "ipython3",
   "version": "3.6.1"
  }
 },
 "nbformat": 4,
 "nbformat_minor": 2
}
